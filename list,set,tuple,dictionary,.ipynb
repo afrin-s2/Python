{
  "nbformat": 4,
  "nbformat_minor": 0,
  "metadata": {
    "colab": {
      "provenance": []
    },
    "kernelspec": {
      "name": "python3",
      "display_name": "Python 3"
    },
    "language_info": {
      "name": "python"
    }
  },
  "cells": [
    {
      "cell_type": "code",
      "source": [
        "#LIST IN PYTHON"
      ],
      "metadata": {
        "id": "rpn0DyenCRfv"
      },
      "execution_count": null,
      "outputs": []
    },
    {
      "cell_type": "code",
      "source": [
        "#Accessing item in in list\n",
        "thislist=['chappati','poori','dosa','idly','vada']\n",
        "print(thislist[0])\n",
        "print(thislist[3])\n"
      ],
      "metadata": {
        "colab": {
          "base_uri": "https://localhost:8080/"
        },
        "id": "cKaquZH4cseO",
        "outputId": "40f0dbfe-577b-457f-e6ea-6d3742105c62"
      },
      "execution_count": null,
      "outputs": [
        {
          "output_type": "stream",
          "name": "stdout",
          "text": [
            "chappati\n",
            "idly\n"
          ]
        }
      ]
    },
    {
      "cell_type": "code",
      "source": [
        "#slicing(positive)\n",
        "thislist=['chappati','poori','dosa','idly','vada']\n",
        "print(thislist[1:2])\n",
        "print(thislist[:3])\n",
        "print(thislist[1:])\n",
        "print(thislist[0:4])"
      ],
      "metadata": {
        "colab": {
          "base_uri": "https://localhost:8080/"
        },
        "id": "ClKtZmAzdqOC",
        "outputId": "ee361cdf-b4eb-4673-f8c6-b6f355c9dcf4"
      },
      "execution_count": null,
      "outputs": [
        {
          "output_type": "stream",
          "name": "stdout",
          "text": [
            "['poori']\n",
            "['chappati', 'poori', 'dosa']\n",
            "['poori', 'dosa', 'idly', 'vada']\n",
            "['chappati', 'poori', 'dosa', 'idly']\n"
          ]
        }
      ]
    },
    {
      "cell_type": "code",
      "source": [
        "#slicing(negative)\n",
        "thislist=['chappati','poori','dosa','idly','vada']\n",
        "print(thislist[-4:-3])\n",
        "print(thislist[:-3])\n",
        "print(thislist[-1:])\n",
        "print(thislist[:-4])"
      ],
      "metadata": {
        "colab": {
          "base_uri": "https://localhost:8080/"
        },
        "id": "qJvpWxG2eDGs",
        "outputId": "4ef6c460-6925-4393-f74a-23b87c0f2227"
      },
      "execution_count": null,
      "outputs": [
        {
          "output_type": "stream",
          "name": "stdout",
          "text": [
            "['poori']\n",
            "['chappati', 'poori']\n",
            "['vada']\n",
            "['chappati']\n"
          ]
        }
      ]
    },
    {
      "cell_type": "code",
      "source": [
        "#check item using in\n",
        "thislist=['chappati','poori','dosa','idly','vada']\n",
        "if \"poori\" in thislist:\n",
        "  print(\"true\")\n",
        "else:\n",
        "  print(\"false\")"
      ],
      "metadata": {
        "colab": {
          "base_uri": "https://localhost:8080/"
        },
        "id": "-Ex0MdK7ezan",
        "outputId": "d47928cc-29be-454a-cd2f-329f0469b9ae"
      },
      "execution_count": null,
      "outputs": [
        {
          "output_type": "stream",
          "name": "stdout",
          "text": [
            "true\n"
          ]
        }
      ]
    },
    {
      "cell_type": "code",
      "source": [
        "#changing item using in\n",
        "thislist=['chappati','poori','dosa','idly','vada']\n",
        "print(thislist)\n",
        "thislist[1:4]=\"\"\n",
        "print(thislist[1:4])\n",
        "thislist[:2]=[\"payasam\",\"vada\"]\n",
        "#print(thislist[:2])\n"
      ],
      "metadata": {
        "colab": {
          "base_uri": "https://localhost:8080/"
        },
        "id": "zi3KQ4hWfneB",
        "outputId": "b2a4d7b8-0339-425f-f1a4-d717ff5e4e74"
      },
      "execution_count": null,
      "outputs": [
        {
          "output_type": "stream",
          "name": "stdout",
          "text": [
            "['chappati', 'poori', 'dosa', 'idly', 'vada']\n",
            "['vada']\n"
          ]
        }
      ]
    },
    {
      "cell_type": "code",
      "source": [
        "#changing item using in\n",
        "thislist=['chappati','poori','dosa','idly','vada']\n",
        "for i in thislist:\n",
        "  print(i)\n",
        "for j in range(len(thislist)):\n",
        "  print(thislist)\n",
        "  print(thislist[j])\n"
      ],
      "metadata": {
        "colab": {
          "base_uri": "https://localhost:8080/"
        },
        "id": "7kCl7byvh6F0",
        "outputId": "834f9005-56d4-4aae-e438-336e4f590062"
      },
      "execution_count": null,
      "outputs": [
        {
          "output_type": "stream",
          "name": "stdout",
          "text": [
            "chappati\n",
            "poori\n",
            "dosa\n",
            "idly\n",
            "vada\n",
            "['chappati', 'poori', 'dosa', 'idly', 'vada']\n",
            "chappati\n",
            "['chappati', 'poori', 'dosa', 'idly', 'vada']\n",
            "poori\n",
            "['chappati', 'poori', 'dosa', 'idly', 'vada']\n",
            "dosa\n",
            "['chappati', 'poori', 'dosa', 'idly', 'vada']\n",
            "idly\n",
            "['chappati', 'poori', 'dosa', 'idly', 'vada']\n",
            "vada\n"
          ]
        }
      ]
    },
    {
      "cell_type": "code",
      "source": [
        "#changing item using in positive index\n",
        "thislist=['chappati','poori','dosa','idly','vada']\n",
        "print(thislist)\n",
        "print(thislist[1:4])\n",
        "print(thislist[:4])\n",
        "print(thislist[4:])\n",
        "print(thislist[:2])\n",
        "print(thislist[2:])\n",
        "print(thislist[1:])\n",
        "print(thislist[:1])\n",
        "print(thislist[2:4])\n",
        "print(thislist[2:3])\n",
        "\n",
        "\n",
        "\n"
      ],
      "metadata": {
        "colab": {
          "base_uri": "https://localhost:8080/"
        },
        "id": "ikVe69pa50w1",
        "outputId": "eecaf0b3-6e8b-40ca-a959-4948920f6e34"
      },
      "execution_count": null,
      "outputs": [
        {
          "output_type": "stream",
          "name": "stdout",
          "text": [
            "['chappati', 'poori', 'dosa', 'idly', 'vada']\n",
            "['poori', 'dosa', 'idly']\n",
            "['chappati', 'poori', 'dosa', 'idly']\n",
            "['vada']\n",
            "['chappati', 'poori']\n",
            "['dosa', 'idly', 'vada']\n",
            "['poori', 'dosa', 'idly', 'vada']\n",
            "['chappati']\n",
            "['dosa', 'idly']\n",
            "['dosa']\n"
          ]
        }
      ]
    },
    {
      "cell_type": "code",
      "source": [
        "#changing item using in negative index\n",
        "\n",
        "thislist=['chappati','poori','dosa','idly','vada']\n",
        "print(thislist)\n",
        "print(thislist[-4:-1])\n",
        "print(thislist[:-4])\n",
        "print(thislist[-4:])\n",
        "print(thislist[:-2])\n",
        "print(thislist[-2:])\n",
        "print(thislist[-1:])\n",
        "print(thislist[:-1])\n",
        "print(thislist[-4:-2])\n",
        "print(thislist[-3:-1])\n",
        "\n",
        "\n"
      ],
      "metadata": {
        "colab": {
          "base_uri": "https://localhost:8080/"
        },
        "id": "AVNT1aWO7XRK",
        "outputId": "0e45255f-04a1-40a5-d178-729e7464a1ab"
      },
      "execution_count": null,
      "outputs": [
        {
          "output_type": "stream",
          "name": "stdout",
          "text": [
            "['chappati', 'poori', 'dosa', 'idly', 'vada']\n",
            "['poori', 'dosa', 'idly']\n",
            "['chappati']\n",
            "['poori', 'dosa', 'idly', 'vada']\n",
            "['chappati', 'poori', 'dosa']\n",
            "['idly', 'vada']\n",
            "['vada']\n",
            "['chappati', 'poori', 'dosa', 'idly']\n",
            "['poori', 'dosa']\n",
            "['dosa', 'idly']\n"
          ]
        }
      ]
    },
    {
      "cell_type": "code",
      "source": [
        "#Using two for loop in list\n",
        "\n",
        "thislist=['chappati','poori','dosa','idly','vada']\n",
        "for i in thislist:\n",
        "  print(i)\n",
        "for j in range(len(thislist)):\n",
        "  print(thislist)\n",
        "  print(j)\n",
        "  print(thislist)\n",
        "\n"
      ],
      "metadata": {
        "colab": {
          "base_uri": "https://localhost:8080/"
        },
        "id": "cCDcMRk329n-",
        "outputId": "99b7d9fc-d8f0-4a0f-accb-c3eaa09468f0"
      },
      "execution_count": null,
      "outputs": [
        {
          "output_type": "stream",
          "name": "stdout",
          "text": [
            "chappati\n",
            "poori\n",
            "dosa\n",
            "idly\n",
            "vada\n",
            "['chappati', 'poori', 'dosa', 'idly', 'vada']\n",
            "0\n",
            "['chappati', 'poori', 'dosa', 'idly', 'vada']\n",
            "['chappati', 'poori', 'dosa', 'idly', 'vada']\n",
            "1\n",
            "['chappati', 'poori', 'dosa', 'idly', 'vada']\n",
            "['chappati', 'poori', 'dosa', 'idly', 'vada']\n",
            "2\n",
            "['chappati', 'poori', 'dosa', 'idly', 'vada']\n",
            "['chappati', 'poori', 'dosa', 'idly', 'vada']\n",
            "3\n",
            "['chappati', 'poori', 'dosa', 'idly', 'vada']\n",
            "['chappati', 'poori', 'dosa', 'idly', 'vada']\n",
            "4\n",
            "['chappati', 'poori', 'dosa', 'idly', 'vada']\n"
          ]
        }
      ]
    },
    {
      "cell_type": "code",
      "source": [
        "#Reducing long coding into short\n",
        "thislist=['chappati','poori','dosa','idly','vada']\n",
        "nl=[[i for i in thislist]]\n",
        "print(nl)"
      ],
      "metadata": {
        "colab": {
          "base_uri": "https://localhost:8080/"
        },
        "id": "ls8i-6Mb41ze",
        "outputId": "cf41326d-c5aa-4353-80bf-df93272e2bf0"
      },
      "execution_count": null,
      "outputs": [
        {
          "output_type": "stream",
          "name": "stdout",
          "text": [
            "[['chappati', 'poori', 'dosa', 'idly', 'vada']]\n"
          ]
        }
      ]
    },
    {
      "cell_type": "code",
      "source": [
        "#Sorting in list\n",
        "thislist=[4,5,2,8,1,]\n",
        "thislist.sort()\n",
        "print(thislist)"
      ],
      "metadata": {
        "colab": {
          "base_uri": "https://localhost:8080/"
        },
        "id": "A67stc4J6FTu",
        "outputId": "c3e94352-23cc-4484-b4f0-66830d917a01"
      },
      "execution_count": null,
      "outputs": [
        {
          "output_type": "stream",
          "name": "stdout",
          "text": [
            "[1, 2, 4, 5, 8]\n"
          ]
        }
      ]
    },
    {
      "cell_type": "code",
      "source": [
        "#Reducing long coding into short\n",
        "thislist=['chappati','poori','dosa','idly','vada']\n",
        "newlist=[]\n",
        "for x in thislist:\n",
        "  if 'a' in x:\n",
        "    newlist.append(x)\n",
        "print(newlist)\n",
        "\n",
        "#Sinmlpied form\n",
        "thislist=['chappati','poori','dosa','idly','vada']\n",
        "newlist=[x for x in thislist if 'a' in x]\n",
        "print(newlist)\n",
        "\n"
      ],
      "metadata": {
        "colab": {
          "base_uri": "https://localhost:8080/"
        },
        "id": "2_pTFGNi6t_R",
        "outputId": "7bc04e57-fb37-47e2-e526-df8b1f1552a6"
      },
      "execution_count": null,
      "outputs": [
        {
          "output_type": "stream",
          "name": "stdout",
          "text": [
            "['chappati', 'dosa', 'vada']\n",
            "['chappati', 'dosa', 'vada']\n"
          ]
        }
      ]
    },
    {
      "cell_type": "code",
      "source": [
        "#Using upper() in for loop(list)\n",
        "thislist=['chappati','poori','dosa','idly','vada']\n",
        "nl=[i.upper() for i in thislist]\n",
        "print(nl)"
      ],
      "metadata": {
        "colab": {
          "base_uri": "https://localhost:8080/"
        },
        "id": "TN3yTfl-9shJ",
        "outputId": "f7eda68e-1f98-4a57-c959-4f60f5db170c"
      },
      "execution_count": null,
      "outputs": [
        {
          "output_type": "stream",
          "name": "stdout",
          "text": [
            "['CHAPPATI', 'POORI', 'DOSA', 'IDLY', 'VADA']\n"
          ]
        }
      ]
    },
    {
      "cell_type": "code",
      "source": [
        "#Finding chars using for loop in (list)\n",
        "thislist=['chappati','poori','dosa','idly','vada']\n",
        "nl=[i for i in thislist if \"o\" in i]\n",
        "print(nl)"
      ],
      "metadata": {
        "colab": {
          "base_uri": "https://localhost:8080/"
        },
        "id": "BMqWdCw6-kht",
        "outputId": "d18dea3a-82d6-4b6a-d1df-e62968cd83d5"
      },
      "execution_count": null,
      "outputs": [
        {
          "output_type": "stream",
          "name": "stdout",
          "text": [
            "['poori', 'dosa']\n"
          ]
        }
      ]
    },
    {
      "cell_type": "code",
      "source": [
        "#Sorting\n",
        "thislist=['chappati','poori','dosa','idly','vada']\n",
        "thislist.sort()\n",
        "print(thislist)\n"
      ],
      "metadata": {
        "colab": {
          "base_uri": "https://localhost:8080/"
        },
        "id": "zwomjl7w_H0h",
        "outputId": "a82ecab6-7538-436f-b003-17f9a9388a6e"
      },
      "execution_count": null,
      "outputs": [
        {
          "output_type": "stream",
          "name": "stdout",
          "text": [
            "['chappati', 'dosa', 'idly', 'poori', 'vada']\n"
          ]
        }
      ]
    },
    {
      "cell_type": "code",
      "source": [
        "#Sorting string using lower() in list\n",
        "thislist=['chappati','poori','dosa','idly','vada']\n",
        "thislist.sort(key=str.lower)\n",
        "print(thislist)\n"
      ],
      "metadata": {
        "colab": {
          "base_uri": "https://localhost:8080/"
        },
        "id": "TccU0yIL_hPK",
        "outputId": "90314801-9245-419b-db91-74249888927b"
      },
      "execution_count": null,
      "outputs": [
        {
          "output_type": "stream",
          "name": "stdout",
          "text": [
            "['chappati', 'dosa', 'idly', 'poori', 'vada']\n"
          ]
        }
      ]
    },
    {
      "cell_type": "code",
      "source": [
        "#Sorting string using upper() in list\n",
        "thislist=['chappati','poori','dosa','idly','vada']\n",
        "thislist.sort(key=str.upper)\n",
        "print(thislist)\n"
      ],
      "metadata": {
        "colab": {
          "base_uri": "https://localhost:8080/"
        },
        "id": "-Y067mdK_4De",
        "outputId": "2bcba8f8-28c5-4152-abb1-0da09eee60b6"
      },
      "execution_count": null,
      "outputs": [
        {
          "output_type": "stream",
          "name": "stdout",
          "text": [
            "['chappati', 'dosa', 'idly', 'poori', 'vada']\n"
          ]
        }
      ]
    },
    {
      "cell_type": "code",
      "source": [
        "#Copylist method1\n",
        "thislist=['chappati','poori','dosa','idly','vada']\n",
        "secondlist=thislist.copy()\n",
        "print(thislist)\n",
        "print(secondlist)\n",
        "\n"
      ],
      "metadata": {
        "colab": {
          "base_uri": "https://localhost:8080/"
        },
        "id": "RTUe7bfEAEDm",
        "outputId": "9ef55952-e165-4ca8-8155-a0eda8b110e3"
      },
      "execution_count": null,
      "outputs": [
        {
          "output_type": "stream",
          "name": "stdout",
          "text": [
            "['chappati', 'poori', 'dosa', 'idly', 'vada']\n",
            "['chappati', 'poori', 'dosa', 'idly', 'vada']\n"
          ]
        }
      ]
    },
    {
      "cell_type": "code",
      "source": [
        "#Copylist method2\n",
        "thislist=['chappati','poori','dosa','idly','vada']\n",
        "secondlist=thislist\n",
        "print(thislist)\n",
        "print(secondlist)\n"
      ],
      "metadata": {
        "colab": {
          "base_uri": "https://localhost:8080/"
        },
        "id": "BcMDuY6OAh7G",
        "outputId": "bf4588fc-8cf2-4599-be8f-fd4faeee176f"
      },
      "execution_count": null,
      "outputs": [
        {
          "output_type": "stream",
          "name": "stdout",
          "text": [
            "['chappati', 'poori', 'dosa', 'idly', 'vada']\n",
            "['chappati', 'poori', 'dosa', 'idly', 'vada']\n"
          ]
        }
      ]
    },
    {
      "cell_type": "code",
      "source": [
        "#Concatenation\n",
        "thislist=['chappati','poori','dosa','idly','vada']\n",
        "secondlist=[\"rice\",\"dhal\"]\n",
        "print(secondlist+thislist)\n"
      ],
      "metadata": {
        "colab": {
          "base_uri": "https://localhost:8080/"
        },
        "id": "Ohr4fsZAAyle",
        "outputId": "733a72f6-530b-4eab-a98c-9ecba84db5c0"
      },
      "execution_count": null,
      "outputs": [
        {
          "output_type": "stream",
          "name": "stdout",
          "text": [
            "['rice', 'dhal', 'chappati', 'poori', 'dosa', 'idly', 'vada']\n"
          ]
        }
      ]
    },
    {
      "cell_type": "code",
      "source": [
        "#Converting list to tuple\n",
        "thislist=['chappati','poori','dosa','idly','vada']\n",
        "secondlist=thislist\n",
        "\n",
        "secondlist=list(thislist)\n",
        "print(secondlist)\n",
        "secondlist=[\"rice\",\"dhal\"]\n",
        "print(type(secondlist))\n",
        "\n",
        "print(secondlist)\n",
        "secondlist=tuple(thislist)\n",
        "print(secondlist)\n"
      ],
      "metadata": {
        "colab": {
          "base_uri": "https://localhost:8080/"
        },
        "id": "wudwOhGwBO2f",
        "outputId": "3a21c65b-0c8c-4089-f89c-e6e800d4a766"
      },
      "execution_count": null,
      "outputs": [
        {
          "output_type": "stream",
          "name": "stdout",
          "text": [
            "['chappati', 'poori', 'dosa', 'idly', 'vada']\n",
            "<class 'list'>\n",
            "['rice', 'dhal']\n",
            "('chappati', 'poori', 'dosa', 'idly', 'vada')\n"
          ]
        }
      ]
    },
    {
      "cell_type": "code",
      "source": [
        "#_______________________________________________________________________________________________________________________________"
      ],
      "metadata": {
        "id": "VoAXjUiYVmpP"
      },
      "execution_count": null,
      "outputs": []
    },
    {
      "cell_type": "code",
      "source": [
        "#SET IN PYTHON"
      ],
      "metadata": {
        "id": "6vFfQV0oBmP_"
      },
      "execution_count": null,
      "outputs": []
    },
    {
      "cell_type": "code",
      "execution_count": null,
      "metadata": {
        "colab": {
          "base_uri": "https://localhost:8080/"
        },
        "id": "3fbY0L3Nxqpy",
        "outputId": "4acf63b8-59a5-4831-880f-5f731f2644c4"
      },
      "outputs": [
        {
          "output_type": "stream",
          "name": "stdout",
          "text": [
            "{1, 2, 3, 4, 5, 6, 7}\n",
            "<class 'set'>\n"
          ]
        }
      ],
      "source": [
        "#Creating set\n",
        "myset={1,2,3,4,5,6,7}\n",
        "print(myset)\n",
        "print(type(myset))\n"
      ]
    },
    {
      "cell_type": "code",
      "source": [
        "#Not allowing duplicate values\n",
        "myset={1,2,3,4,4,5,6,7}\n",
        "print(myset)\n",
        "print(type(myset))\n"
      ],
      "metadata": {
        "colab": {
          "base_uri": "https://localhost:8080/"
        },
        "id": "vNxyIqbdyqD3",
        "outputId": "679d40c8-af2c-4265-ae48-30e85d3fb20d"
      },
      "execution_count": null,
      "outputs": [
        {
          "output_type": "stream",
          "name": "stdout",
          "text": [
            "{1, 2, 3, 4, 5, 6, 7}\n",
            "<class 'set'>\n"
          ]
        }
      ]
    },
    {
      "cell_type": "code",
      "source": [
        "#Creating set\n",
        "myset={True,1,1,2,3,4,5,False,0,6,7}\n",
        "print(myset)\n",
        "print(type(myset))\n",
        "print(len(myset))\n"
      ],
      "metadata": {
        "colab": {
          "base_uri": "https://localhost:8080/"
        },
        "id": "Vfl4xK82zCE2",
        "outputId": "a5977414-79e9-4e05-a3f0-c93bf9f701e0"
      },
      "execution_count": null,
      "outputs": [
        {
          "output_type": "stream",
          "name": "stdout",
          "text": [
            "{False, True, 2, 3, 4, 5, 6, 7}\n",
            "<class 'set'>\n",
            "8\n"
          ]
        }
      ]
    },
    {
      "cell_type": "code",
      "source": [
        "#Accessing items in set\n",
        "myset=set((True,1,1,2,3,4,5,False,0,6,7))\n",
        "print(myset)\n"
      ],
      "metadata": {
        "colab": {
          "base_uri": "https://localhost:8080/"
        },
        "id": "35X_37Kxzrfi",
        "outputId": "663a4571-d92b-4d43-a7bb-ece57d8b2e2f"
      },
      "execution_count": null,
      "outputs": [
        {
          "output_type": "stream",
          "name": "stdout",
          "text": [
            "{False, True, 2, 3, 4, 5, 6, 7}\n"
          ]
        }
      ]
    },
    {
      "cell_type": "code",
      "source": [
        "#set constructor\n",
        "myset=set(('apple','banana','grapes','cherry','mango'))\n",
        "print(myset)\n"
      ],
      "metadata": {
        "colab": {
          "base_uri": "https://localhost:8080/"
        },
        "id": "YBjvyD72z72z",
        "outputId": "daaa19c0-16ec-4c49-b81d-58ee7d8bb83d"
      },
      "execution_count": null,
      "outputs": [
        {
          "output_type": "stream",
          "name": "stdout",
          "text": [
            "{'mango', 'cherry', 'grapes', 'banana', 'apple'}\n"
          ]
        }
      ]
    },
    {
      "cell_type": "code",
      "source": [
        "#Accessing items using for loop\n",
        "myset=set(('apple','banana','grapes','cherry','mango'))\n",
        "for i in myset:\n",
        "  print(i)"
      ],
      "metadata": {
        "colab": {
          "base_uri": "https://localhost:8080/"
        },
        "id": "b6OjnMi10rqA",
        "outputId": "a60b668c-6d3f-4278-c48b-56918f9a9a13"
      },
      "execution_count": null,
      "outputs": [
        {
          "output_type": "stream",
          "name": "stdout",
          "text": [
            "mango\n",
            "cherry\n",
            "grapes\n",
            "banana\n",
            "apple\n"
          ]
        }
      ]
    },
    {
      "cell_type": "code",
      "source": [
        "#if function in set\n",
        "myset=set(('apple','banana','grapes','cherry','mango'))\n",
        "if 'orange' in myset:\n",
        "  print(\"True\")\n",
        "elif \"pomegranate\" not in myset:\n",
        "  print(\"False\")\n",
        "else:\n",
        "  print(\"Thankyou\")\n",
        "\n"
      ],
      "metadata": {
        "id": "qQPmht6p1IUg",
        "colab": {
          "base_uri": "https://localhost:8080/"
        },
        "outputId": "15d48afd-138f-4e8e-9acc-c8ea1dca1ccc"
      },
      "execution_count": null,
      "outputs": [
        {
          "output_type": "stream",
          "name": "stdout",
          "text": [
            "False\n"
          ]
        }
      ]
    },
    {
      "cell_type": "code",
      "source": [
        "#if function in set\n",
        "myset=set(('apple','banana','grapes','cherry','mango'))\n",
        "if 'orange' in myset:\n",
        "  print(\"True\")\n",
        "elif \"mango\" not in myset:\n",
        "  print(\"False\")\n",
        "else:\n",
        "  print(\"Thankyou\")\n",
        "\n"
      ],
      "metadata": {
        "colab": {
          "base_uri": "https://localhost:8080/"
        },
        "id": "jtOEMt5fYfom",
        "outputId": "b5f370f4-987b-4938-9009-7dff2cb5d5f7"
      },
      "execution_count": null,
      "outputs": [
        {
          "output_type": "stream",
          "name": "stdout",
          "text": [
            "Thankyou\n"
          ]
        }
      ]
    },
    {
      "cell_type": "code",
      "source": [
        "#if function in set\n",
        "myset=set(('apple','banana','grapes','cherry','mango'))\n",
        "if 'apple' in myset:\n",
        "  print(\"True\")\n",
        "elif \"pomegranate\" not in myset:\n",
        "  print(\"False\")\n",
        "else:\n",
        "  print(\"Thankyou\")\n",
        "\n"
      ],
      "metadata": {
        "colab": {
          "base_uri": "https://localhost:8080/"
        },
        "id": "-Gser8rmYtwI",
        "outputId": "29eae418-1e37-45fc-c67d-387b04aba6ab"
      },
      "execution_count": null,
      "outputs": [
        {
          "output_type": "stream",
          "name": "stdout",
          "text": [
            "True\n"
          ]
        }
      ]
    },
    {
      "cell_type": "code",
      "source": [
        "#Add items in set\n",
        "myset=set(('apple','banana','grapes','cherry','mango'))\n",
        "myset.add(\"orange\")\n",
        "print(myset)"
      ],
      "metadata": {
        "colab": {
          "base_uri": "https://localhost:8080/"
        },
        "id": "gmlr2eFjY0bT",
        "outputId": "1993a01a-c852-46f6-bb69-d7bfc2d3b022"
      },
      "execution_count": null,
      "outputs": [
        {
          "output_type": "stream",
          "name": "stdout",
          "text": [
            "{'grapes', 'apple', 'banana', 'mango', 'orange', 'cherry'}\n"
          ]
        }
      ]
    },
    {
      "cell_type": "code",
      "source": [
        "#Update items using set in set\n",
        "myset=set(('apple','banana','grapes','cherry','mango'))\n",
        "myset1={\"vanila\",\"chocolate\"}                       #we cannot add items using index value but we can add items\n",
        "myset.update(myset1)\n",
        "print(myset)"
      ],
      "metadata": {
        "colab": {
          "base_uri": "https://localhost:8080/"
        },
        "id": "DbBwzlZSZGlE",
        "outputId": "415688a8-2c84-4dd8-9adf-a16035de0a67"
      },
      "execution_count": null,
      "outputs": [
        {
          "output_type": "stream",
          "name": "stdout",
          "text": [
            "{'grapes', 'chocolate', 'vanila', 'apple', 'banana', 'mango', 'cherry'}\n"
          ]
        }
      ]
    },
    {
      "cell_type": "code",
      "source": [
        "#Update items using tuple in set\n",
        "myset=set(('apple','banana','grapes','cherry','mango'))\n",
        "myset1=(\"vanila\",\"chocolate\")                       #we cannot add items using index value but we can add items\n",
        "myset.update(myset1)\n",
        "print(myset)"
      ],
      "metadata": {
        "colab": {
          "base_uri": "https://localhost:8080/"
        },
        "id": "qVnh7qv1aOEU",
        "outputId": "8a5c5391-a72c-469d-e20e-f53afa7bc7d2"
      },
      "execution_count": null,
      "outputs": [
        {
          "output_type": "stream",
          "name": "stdout",
          "text": [
            "{'grapes', 'chocolate', 'vanila', 'apple', 'banana', 'mango', 'cherry'}\n"
          ]
        }
      ]
    },
    {
      "cell_type": "code",
      "source": [
        "#Update items using list in set\n",
        "myset=set(('apple','banana','grapes','cherry','mango'))\n",
        "myset1=[\"vanila\",\"chocolate\"]                       #we cannot add items using index value but we can add items\n",
        "myset.update(myset1)\n",
        "print(myset)"
      ],
      "metadata": {
        "colab": {
          "base_uri": "https://localhost:8080/"
        },
        "id": "XDGYpTkeaY1P",
        "outputId": "cc5fd3f5-72df-4493-adba-152071be873e"
      },
      "execution_count": null,
      "outputs": [
        {
          "output_type": "stream",
          "name": "stdout",
          "text": [
            "{'grapes', 'chocolate', 'vanila', 'apple', 'banana', 'mango', 'cherry'}\n"
          ]
        }
      ]
    },
    {
      "cell_type": "code",
      "source": [
        "#Remove items in set\n",
        "myset=set(('apple','banana','grapes','cherry','mango'))\n",
        "myset.remove(\"banana\")\n",
        "print(myset)"
      ],
      "metadata": {
        "colab": {
          "base_uri": "https://localhost:8080/"
        },
        "id": "Ky0E3ZyDa7zQ",
        "outputId": "635b84fe-7faf-4f0d-ae21-8f3008343588"
      },
      "execution_count": null,
      "outputs": [
        {
          "output_type": "stream",
          "name": "stdout",
          "text": [
            "{'grapes', 'apple', 'mango', 'cherry'}\n"
          ]
        }
      ]
    },
    {
      "cell_type": "code",
      "source": [
        "#Remove items in set\n",
        "myset=set(('apple','banana','grapes','cherry','mango'))    #give error when item not in the list,tuple or set\n",
        "myset.remove(\"pineapple\")\n",
        "print(myset)"
      ],
      "metadata": {
        "colab": {
          "base_uri": "https://localhost:8080/",
          "height": 193
        },
        "id": "_e2QVXETb9Z0",
        "outputId": "2909931e-a18a-4a9a-ff20-0d39e188f7f1"
      },
      "execution_count": null,
      "outputs": [
        {
          "output_type": "error",
          "ename": "KeyError",
          "evalue": "'pineapple'",
          "traceback": [
            "\u001b[0;31m---------------------------------------------------------------------------\u001b[0m",
            "\u001b[0;31mKeyError\u001b[0m                                  Traceback (most recent call last)",
            "\u001b[0;32m<ipython-input-17-156904bc7935>\u001b[0m in \u001b[0;36m<cell line: 3>\u001b[0;34m()\u001b[0m\n\u001b[1;32m      1\u001b[0m \u001b[0;31m#Remove items in set\u001b[0m\u001b[0;34m\u001b[0m\u001b[0;34m\u001b[0m\u001b[0m\n\u001b[1;32m      2\u001b[0m \u001b[0mmyset\u001b[0m\u001b[0;34m=\u001b[0m\u001b[0mset\u001b[0m\u001b[0;34m(\u001b[0m\u001b[0;34m(\u001b[0m\u001b[0;34m'apple'\u001b[0m\u001b[0;34m,\u001b[0m\u001b[0;34m'banana'\u001b[0m\u001b[0;34m,\u001b[0m\u001b[0;34m'grapes'\u001b[0m\u001b[0;34m,\u001b[0m\u001b[0;34m'cherry'\u001b[0m\u001b[0;34m,\u001b[0m\u001b[0;34m'mango'\u001b[0m\u001b[0;34m)\u001b[0m\u001b[0;34m)\u001b[0m\u001b[0;34m\u001b[0m\u001b[0;34m\u001b[0m\u001b[0m\n\u001b[0;32m----> 3\u001b[0;31m \u001b[0mmyset\u001b[0m\u001b[0;34m.\u001b[0m\u001b[0mremove\u001b[0m\u001b[0;34m(\u001b[0m\u001b[0;34m\"pineapple\"\u001b[0m\u001b[0;34m)\u001b[0m\u001b[0;34m\u001b[0m\u001b[0;34m\u001b[0m\u001b[0m\n\u001b[0m\u001b[1;32m      4\u001b[0m \u001b[0mprint\u001b[0m\u001b[0;34m(\u001b[0m\u001b[0mmyset\u001b[0m\u001b[0;34m)\u001b[0m\u001b[0;34m\u001b[0m\u001b[0;34m\u001b[0m\u001b[0m\n",
            "\u001b[0;31mKeyError\u001b[0m: 'pineapple'"
          ]
        }
      ]
    },
    {
      "cell_type": "code",
      "source": [
        "#Discard as same as remove\n",
        "myset=set(('apple','banana','grapes','cherry','mango'))\n",
        "myset.discard(\"banana\")\n",
        "print(myset)"
      ],
      "metadata": {
        "colab": {
          "base_uri": "https://localhost:8080/"
        },
        "id": "C6jACT9ybaLk",
        "outputId": "168f3617-fb8c-4584-b323-2eee971fcb77"
      },
      "execution_count": null,
      "outputs": [
        {
          "output_type": "stream",
          "name": "stdout",
          "text": [
            "{'grapes', 'apple', 'mango', 'cherry'}\n"
          ]
        }
      ]
    },
    {
      "cell_type": "code",
      "source": [
        "#pop in set\n",
        "myset=set(('apple','banana','grapes','cherry','mango'))\n",
        "x=myset.pop()              #remove randomly\n",
        "print(x)\n",
        "print(myset)\n"
      ],
      "metadata": {
        "colab": {
          "base_uri": "https://localhost:8080/"
        },
        "id": "DpG7KGtvesrb",
        "outputId": "0b5f9777-867a-4d61-98e9-5d9a3116884d"
      },
      "execution_count": null,
      "outputs": [
        {
          "output_type": "stream",
          "name": "stdout",
          "text": [
            "grapes\n",
            "{'apple', 'banana', 'mango', 'cherry'}\n"
          ]
        }
      ]
    },
    {
      "cell_type": "code",
      "source": [
        "#clear the set\n",
        "myset=set(('apple','banana','grapes','cherry','mango'))\n",
        "myset.clear()\n",
        "print(myset)"
      ],
      "metadata": {
        "colab": {
          "base_uri": "https://localhost:8080/"
        },
        "id": "GCMz8rNPe27W",
        "outputId": "dbd0118c-f361-4458-9ae3-20de8f1b2664"
      },
      "execution_count": null,
      "outputs": [
        {
          "output_type": "stream",
          "name": "stdout",
          "text": [
            "set()\n"
          ]
        }
      ]
    },
    {
      "cell_type": "code",
      "source": [
        "#delete the set\n",
        "myset=set(('apple','banana','grapes','cherry','mango'))\n",
        "del myset  #empty the set"
      ],
      "metadata": {
        "id": "wtmAcqk6gfGw"
      },
      "execution_count": null,
      "outputs": []
    },
    {
      "cell_type": "code",
      "source": [
        "#delete the set\n",
        "myset=set(('apple','banana','grapes','cherry','mango'))\n",
        "print(myset)     #print the set\n",
        "del myset        #delete the set\n",
        "print(myset)     #give error after deleting the set because no values in that set"
      ],
      "metadata": {
        "colab": {
          "base_uri": "https://localhost:8080/",
          "height": 193
        },
        "id": "X31vzjQEf29F",
        "outputId": "f7add724-3ea2-4562-9fc7-41ff71d8fcd8"
      },
      "execution_count": null,
      "outputs": [
        {
          "output_type": "stream",
          "name": "stdout",
          "text": [
            "{'grapes', 'apple', 'banana', 'mango', 'cherry'}\n"
          ]
        },
        {
          "output_type": "error",
          "ename": "NameError",
          "evalue": "name 'myset' is not defined",
          "traceback": [
            "\u001b[0;31m---------------------------------------------------------------------------\u001b[0m",
            "\u001b[0;31mNameError\u001b[0m                                 Traceback (most recent call last)",
            "\u001b[0;32m<ipython-input-23-999ff0f16443>\u001b[0m in \u001b[0;36m<cell line: 5>\u001b[0;34m()\u001b[0m\n\u001b[1;32m      3\u001b[0m \u001b[0mprint\u001b[0m\u001b[0;34m(\u001b[0m\u001b[0mmyset\u001b[0m\u001b[0;34m)\u001b[0m\u001b[0;34m\u001b[0m\u001b[0;34m\u001b[0m\u001b[0m\n\u001b[1;32m      4\u001b[0m \u001b[0;32mdel\u001b[0m \u001b[0mmyset\u001b[0m\u001b[0;34m\u001b[0m\u001b[0;34m\u001b[0m\u001b[0m\n\u001b[0;32m----> 5\u001b[0;31m \u001b[0mprint\u001b[0m\u001b[0;34m(\u001b[0m\u001b[0mmyset\u001b[0m\u001b[0;34m)\u001b[0m\u001b[0;34m\u001b[0m\u001b[0;34m\u001b[0m\u001b[0m\n\u001b[0m",
            "\u001b[0;31mNameError\u001b[0m: name 'myset' is not defined"
          ]
        }
      ]
    },
    {
      "cell_type": "code",
      "source": [
        "#Union of the set\n",
        "set1={'a','b','c','1','2','3'}\n",
        "set2={'1','2','3'}\n",
        "print(set1.union(set2)) #avoid duplicate values\n"
      ],
      "metadata": {
        "colab": {
          "base_uri": "https://localhost:8080/"
        },
        "id": "JSO6PXo8g4-a",
        "outputId": "4fcf77e7-fe6f-4b21-a525-e7ad90e467b0"
      },
      "execution_count": null,
      "outputs": [
        {
          "output_type": "stream",
          "name": "stdout",
          "text": [
            "{'3', 'b', 'a', '2', 'c', '1'}\n"
          ]
        }
      ]
    },
    {
      "cell_type": "code",
      "source": [
        "#Union of the set\n",
        "set1={'a','b','c'}\n",
        "set2={'1','2','3'}\n",
        "print(set1.union(set2))\n"
      ],
      "metadata": {
        "colab": {
          "base_uri": "https://localhost:8080/"
        },
        "id": "YEXHTs5zhn1G",
        "outputId": "afad4ff5-1d22-4108-c776-4f9c0db13733"
      },
      "execution_count": null,
      "outputs": [
        {
          "output_type": "stream",
          "name": "stdout",
          "text": [
            "{'3', 'b', 'a', 'c', '1', '2'}\n"
          ]
        }
      ]
    },
    {
      "cell_type": "code",
      "source": [
        "#Union or | of the set\n",
        "set1={'a','b','c','1','2','3'}\n",
        "set2={'1','2','3'}\n",
        "print(set1|set2) #avoid duplicate values and cannot use list,dic or tuple when using |\n"
      ],
      "metadata": {
        "colab": {
          "base_uri": "https://localhost:8080/"
        },
        "id": "Pk61PtU0gczb",
        "outputId": "3d980583-1cb3-4ce8-9142-228117665cc9"
      },
      "execution_count": null,
      "outputs": [
        {
          "output_type": "stream",
          "name": "stdout",
          "text": [
            "{'3', 'b', 'a', '2', 'c', '1'}\n"
          ]
        }
      ]
    },
    {
      "cell_type": "code",
      "source": [
        "#Union or | of the set\n",
        "set1={'a','b','c','1','2','3'}\n",
        "set2={'1','2','3'}\n",
        "set3={'d','e','f'}\n",
        "print(set1|set2|set3) #avoid duplicate values and cannot use list,dic or tuple when using |\n"
      ],
      "metadata": {
        "colab": {
          "base_uri": "https://localhost:8080/"
        },
        "id": "Ref_EneEie0G",
        "outputId": "e99a60bd-c234-4b2a-e62b-edb07961d5a6"
      },
      "execution_count": null,
      "outputs": [
        {
          "output_type": "stream",
          "name": "stdout",
          "text": [
            "{'3', 'b', 'd', 'a', '2', 'f', 'e', 'c', '1'}\n"
          ]
        }
      ]
    },
    {
      "cell_type": "code",
      "source": [
        "#Union of the set\n",
        "set1={'a','b','c','1','2','3'}\n",
        "set2={'1','2','3'}\n",
        "set3={'d','e','f'}\n",
        "print(set1.union(set2,set3)) #avoid duplicate values and cannot use list,dic or tuple when using |\n"
      ],
      "metadata": {
        "colab": {
          "base_uri": "https://localhost:8080/"
        },
        "id": "SXkp5Sx0iui4",
        "outputId": "090a5cff-9dc8-4d9c-88e2-f029b980eac4"
      },
      "execution_count": null,
      "outputs": [
        {
          "output_type": "stream",
          "name": "stdout",
          "text": [
            "{'3', 'b', 'd', 'a', '2', 'f', 'e', 'c', '1'}\n"
          ]
        }
      ]
    },
    {
      "cell_type": "code",
      "source": [
        "#intersection\n",
        "set1={'a','b','c','1','2','3'}\n",
        "set2={'1','2','3'}\n",
        "set3=set1.intersection(set2)\n",
        "print(set3)\n"
      ],
      "metadata": {
        "colab": {
          "base_uri": "https://localhost:8080/"
        },
        "id": "4yLcGAThICsi",
        "outputId": "c6f150b3-6b64-41d1-a549-15fa8b7fc760"
      },
      "execution_count": null,
      "outputs": [
        {
          "output_type": "stream",
          "name": "stdout",
          "text": [
            "{'1', '2', '3'}\n"
          ]
        }
      ]
    },
    {
      "cell_type": "code",
      "source": [
        "#intersection\n",
        "set1={'a','b','c','1','2','3'}\n",
        "set2={'1','2','3'}\n",
        "print(set1.intersection(set2))\n",
        "\n"
      ],
      "metadata": {
        "colab": {
          "base_uri": "https://localhost:8080/"
        },
        "id": "HsMFmMFnI9k-",
        "outputId": "8f22927b-6ac8-459b-fbdb-1560003ce790"
      },
      "execution_count": null,
      "outputs": [
        {
          "output_type": "stream",
          "name": "stdout",
          "text": [
            "{'1', '2', '3'}\n"
          ]
        }
      ]
    },
    {
      "cell_type": "code",
      "source": [
        "#Remove unknown item\n",
        "set1={'a','b','c','1','2','3'}\n",
        "set2={'1','2','3'}\n",
        "set3=set1 & set2\n",
        "print(set3)\n"
      ],
      "metadata": {
        "colab": {
          "base_uri": "https://localhost:8080/"
        },
        "id": "ywRXSeYUJPVW",
        "outputId": "52cb6bf7-bf0a-4924-b1ad-e3f9611527a3"
      },
      "execution_count": null,
      "outputs": [
        {
          "output_type": "stream",
          "name": "stdout",
          "text": [
            "{'1', '2', '3'}\n"
          ]
        }
      ]
    },
    {
      "cell_type": "code",
      "source": [
        "#Intersection update mtd1\n",
        "set1={\"apple\",\"banana\",1,\"cherry\"}\n",
        "set2={\"google\",True,\"apple\"}\n",
        "set1.intersection_update(set2)\n",
        "print(set1)\n"
      ],
      "metadata": {
        "colab": {
          "base_uri": "https://localhost:8080/"
        },
        "id": "cg9vKLuJJr1K",
        "outputId": "dd92b7d7-d521-42b8-c5bf-f491f854132d"
      },
      "execution_count": null,
      "outputs": [
        {
          "output_type": "stream",
          "name": "stdout",
          "text": [
            "{True, 'apple'}\n"
          ]
        }
      ]
    },
    {
      "cell_type": "code",
      "source": [
        "#Intersection update mtd2\n",
        "set1={\"apple\",\"banana\",1,\"cherry\"}\n",
        "set2={\"google\",True,\"apple\"}\n",
        "set2&=set1\n",
        "print(set2)\n"
      ],
      "metadata": {
        "colab": {
          "base_uri": "https://localhost:8080/"
        },
        "id": "DVcMnfQ6Knzm",
        "outputId": "66855da6-a4ba-45b8-bd96-20114d58caba"
      },
      "execution_count": null,
      "outputs": [
        {
          "output_type": "stream",
          "name": "stdout",
          "text": [
            "{True, 'apple'}\n"
          ]
        }
      ]
    },
    {
      "cell_type": "code",
      "source": [
        "#Intersection update mtd3\n",
        "set1={\"apple\",\"banana\",1,\"cherry\"}\n",
        "set2={\"google\",True,\"apple\"}\n",
        "set3=set1.intersection(set2)\n",
        "print(set3)\n"
      ],
      "metadata": {
        "colab": {
          "base_uri": "https://localhost:8080/"
        },
        "id": "xwQdxvuhK55b",
        "outputId": "5480f276-8fcf-4992-cbe9-e172316799a3"
      },
      "execution_count": null,
      "outputs": [
        {
          "output_type": "stream",
          "name": "stdout",
          "text": [
            "{True, 'apple'}\n"
          ]
        }
      ]
    },
    {
      "cell_type": "code",
      "source": [
        "#Difference in set\n",
        "set1={\"apple\",\"banana\",1,\"cherry\"}\n",
        "set2={\"google\",True,\"apple\"}\n",
        "set3=set1.difference(set2)\n",
        "print(set3)\n",
        "\n"
      ],
      "metadata": {
        "colab": {
          "base_uri": "https://localhost:8080/"
        },
        "id": "6Zi648THLFl9",
        "outputId": "6606e134-f9c1-496b-fbbe-73eb77c0a1ec"
      },
      "execution_count": null,
      "outputs": [
        {
          "output_type": "stream",
          "name": "stdout",
          "text": [
            "{'banana', 'cherry'}\n"
          ]
        }
      ]
    },
    {
      "cell_type": "code",
      "source": [
        "#Difference in set\n",
        "set1={\"apple\",\"banana\",1,\"cherry\"}\n",
        "set2={\"google\",True,\"apple\"}\n",
        "set3=set1-set2\n",
        "print(set3)\n",
        "\n"
      ],
      "metadata": {
        "colab": {
          "base_uri": "https://localhost:8080/"
        },
        "id": "RT6qQhZELVGk",
        "outputId": "93969317-15ab-4c38-9f0c-f3b57ffdd1df"
      },
      "execution_count": null,
      "outputs": [
        {
          "output_type": "stream",
          "name": "stdout",
          "text": [
            "{'banana', 'cherry'}\n"
          ]
        }
      ]
    },
    {
      "cell_type": "code",
      "source": [
        "#Difference _update\n",
        "set1={\"apple\",\"banana\",1,\"cherry\"}\n",
        "set2={\"google\",True,\"apple\"}\n",
        "set1.difference_update(set2)\n",
        "print(set1)\n"
      ],
      "metadata": {
        "colab": {
          "base_uri": "https://localhost:8080/"
        },
        "id": "Ft1dGIziLl0n",
        "outputId": "978b034d-3c74-42b4-94c3-5b0185085faf"
      },
      "execution_count": null,
      "outputs": [
        {
          "output_type": "stream",
          "name": "stdout",
          "text": [
            "{'cherry', 'banana'}\n"
          ]
        }
      ]
    },
    {
      "cell_type": "code",
      "source": [
        "#Set Symmetric\n",
        "set1={'apple','banana','cherry'}\n",
        "set2={\"google\",True,\"apple\"}\n",
        "set3=set1.symmetric_difference(set2)\n",
        "print(set3)\n"
      ],
      "metadata": {
        "colab": {
          "base_uri": "https://localhost:8080/"
        },
        "id": "58XicUy0NBxS",
        "outputId": "49f9382b-40a3-4e32-8909-41ad42f4be35"
      },
      "execution_count": null,
      "outputs": [
        {
          "output_type": "stream",
          "name": "stdout",
          "text": [
            "{True, 'google', 'banana', 'cherry'}\n"
          ]
        }
      ]
    },
    {
      "cell_type": "code",
      "source": [
        "#Set Symmetric_difference_update\n",
        "set1={'apple','banana','cherry'}\n",
        "set2={\"google\",True,\"apple\"}\n",
        "set1.symmetric_difference_update(set2)\n",
        "print(set1)\n"
      ],
      "metadata": {
        "colab": {
          "base_uri": "https://localhost:8080/"
        },
        "id": "5WTIxv4-MrPq",
        "outputId": "e4e117e1-097b-49c8-8454-9b5c2703bd87"
      },
      "execution_count": null,
      "outputs": [
        {
          "output_type": "stream",
          "name": "stdout",
          "text": [
            "{True, 'banana', 'google', 'cherry'}\n"
          ]
        }
      ]
    },
    {
      "cell_type": "code",
      "source": [
        "#isdisjoint in set\n",
        "set1={'apple','banana','cherry'}\n",
        "set2={\"google\",True,\"apple\"}\n",
        "set3=set1.isdisjoint(set2)\n",
        "print(set3)             #if intersect\n",
        "\n"
      ],
      "metadata": {
        "colab": {
          "base_uri": "https://localhost:8080/"
        },
        "id": "iPHoAJycN1rI",
        "outputId": "63fbb6ba-0785-44a5-eef8-13c25a6bfb35"
      },
      "execution_count": null,
      "outputs": [
        {
          "output_type": "stream",
          "name": "stdout",
          "text": [
            "False\n"
          ]
        }
      ]
    },
    {
      "cell_type": "code",
      "source": [
        "#isdisjoint in set\n",
        "set1={'apple','banana','cherry'}\n",
        "set2={\"google\",True}\n",
        "set3=set1.isdisjoint(set2)\n",
        "print(set3)             #if not intersect\n",
        "\n"
      ],
      "metadata": {
        "colab": {
          "base_uri": "https://localhost:8080/"
        },
        "id": "LuL3kp2EPE5Y",
        "outputId": "a0738278-9964-4d7c-ef56-b5c1392f8703"
      },
      "execution_count": null,
      "outputs": [
        {
          "output_type": "stream",
          "name": "stdout",
          "text": [
            "True\n"
          ]
        }
      ]
    },
    {
      "cell_type": "code",
      "source": [
        "#issubset\n",
        "set1={'apple','banana','cherry'}\n",
        "set2={\"google\",True,\"apple\"}\n",
        "set3=set1.issubset(set2)\n",
        "print(set3)             #if all items are present then true else false\n",
        "\n"
      ],
      "metadata": {
        "colab": {
          "base_uri": "https://localhost:8080/"
        },
        "id": "0tVa85tkPKZp",
        "outputId": "7b931183-e15a-4af4-af5c-5a21b5764711"
      },
      "execution_count": null,
      "outputs": [
        {
          "output_type": "stream",
          "name": "stdout",
          "text": [
            "False\n"
          ]
        }
      ]
    },
    {
      "cell_type": "code",
      "source": [
        "#issubset\n",
        "set1={'apple','banana','cherry'}\n",
        "set2={'apple','banana','cherry'}\n",
        "set3=set1.issubset(set2)\n",
        "print(set3)             #if all items are present then true\n",
        "\n"
      ],
      "metadata": {
        "colab": {
          "base_uri": "https://localhost:8080/"
        },
        "id": "AYt9WAWZPom9",
        "outputId": "81963cec-6bed-468c-885f-a39de80443ac"
      },
      "execution_count": null,
      "outputs": [
        {
          "output_type": "stream",
          "name": "stdout",
          "text": [
            "True\n"
          ]
        }
      ]
    },
    {
      "cell_type": "code",
      "source": [
        "#issuperset\n",
        "set1={'apple','banana','cherry'}\n",
        "set2={'mango','pineapple'}\n",
        "set3=set1.issuperset(set2)\n",
        "print(set3)\n",
        "\n"
      ],
      "metadata": {
        "colab": {
          "base_uri": "https://localhost:8080/"
        },
        "id": "A-lGdarWPz_B",
        "outputId": "d956bc0e-627d-4472-d75e-9d77919d6266"
      },
      "execution_count": null,
      "outputs": [
        {
          "output_type": "stream",
          "name": "stdout",
          "text": [
            "False\n"
          ]
        }
      ]
    },
    {
      "cell_type": "code",
      "source": [
        "#issuperset\n",
        "set1={'apple','banana','cherry'}\n",
        "set2={'apple','banana'}\n",
        "set3=set1.issuperset(set2)\n",
        "print(set3)\n",
        "\n"
      ],
      "metadata": {
        "colab": {
          "base_uri": "https://localhost:8080/"
        },
        "id": "rchoz4MBP0Fg",
        "outputId": "3291ff4e-0272-49e8-c566-653ef2c24699"
      },
      "execution_count": null,
      "outputs": [
        {
          "output_type": "stream",
          "name": "stdout",
          "text": [
            "True\n"
          ]
        }
      ]
    },
    {
      "cell_type": "code",
      "source": [
        "#____________________________________________________________________________________________________________________________________"
      ],
      "metadata": {
        "id": "yzM6QWoJV8BJ"
      },
      "execution_count": null,
      "outputs": []
    },
    {
      "cell_type": "code",
      "source": [
        "#TUPLE IN PYTHON"
      ],
      "metadata": {
        "id": "L8U6-fj1CdEc"
      },
      "execution_count": null,
      "outputs": []
    },
    {
      "cell_type": "code",
      "execution_count": null,
      "metadata": {
        "colab": {
          "base_uri": "https://localhost:8080/"
        },
        "id": "oiWr2ZuIPog2",
        "outputId": "5696b4d3-03f3-41ec-88c1-d2ab1aa7c59f"
      },
      "outputs": [
        {
          "name": "stdout",
          "output_type": "stream",
          "text": [
            "('apple', 'orange', 'banana', 'cherry')\n"
          ]
        }
      ],
      "source": [
        "#creating tuple\n",
        "mytuple=(\"apple\",\"orange\",\"banana\",\"cherry\")\n",
        "print(mytuple)\n"
      ]
    },
    {
      "cell_type": "code",
      "execution_count": null,
      "metadata": {
        "colab": {
          "base_uri": "https://localhost:8080/"
        },
        "id": "k-dapfFiQuEm",
        "outputId": "79aa441e-c6d8-48be-fab6-06be4aed6bd8"
      },
      "outputs": [
        {
          "name": "stdout",
          "output_type": "stream",
          "text": [
            "4\n"
          ]
        }
      ],
      "source": [
        "#Tuple length\n",
        "mytuple=(\"apple\",\"orange\",\"banana\",\"cherry\")\n",
        "print(len(mytuple))\n"
      ]
    },
    {
      "cell_type": "code",
      "execution_count": null,
      "metadata": {
        "colab": {
          "base_uri": "https://localhost:8080/"
        },
        "id": "kGbceLVKSzYh",
        "outputId": "3bc3c853-c5e7-424e-b721-bb8b878171d7"
      },
      "outputs": [
        {
          "name": "stdout",
          "output_type": "stream",
          "text": [
            "<class 'tuple'>\n"
          ]
        }
      ],
      "source": [
        "#checking type\n",
        "mytuple=(\"apple\",\"orange\",\"banana\",\"cherry\")\n",
        "print(type(mytuple))\n"
      ]
    },
    {
      "cell_type": "code",
      "execution_count": null,
      "metadata": {
        "colab": {
          "base_uri": "https://localhost:8080/"
        },
        "id": "2BPXlWu-JzEN",
        "outputId": "07d8f829-99f6-45bc-8921-75f652aa5e15"
      },
      "outputs": [
        {
          "name": "stdout",
          "output_type": "stream",
          "text": [
            "('abc', 34, True, 40, 'male')\n",
            "<class 'tuple'>\n"
          ]
        }
      ],
      "source": [
        "#tuple datatype\n",
        "mytuple=(\"abc\",34,True,40,\"male\")\n",
        "print(mytuple)\n",
        "print(type(mytuple))\n"
      ]
    },
    {
      "cell_type": "code",
      "execution_count": null,
      "metadata": {
        "colab": {
          "base_uri": "https://localhost:8080/"
        },
        "id": "V6A1CuZzSzmG",
        "outputId": "6905e2a5-83f2-4119-cb7a-0af241ff46fe"
      },
      "outputs": [
        {
          "name": "stdout",
          "output_type": "stream",
          "text": [
            "(2, 'abc', 34, True, 40, 'male')\n",
            "Your name is abc Your age is 34,\n"
          ]
        }
      ],
      "source": [
        "#format in tuple\n",
        "tuple=(2,\"abc\",34,True,40,\"male\")\n",
        "print(tuple)\n",
        "print(\"Your name is {} Your age is {},\".format(tuple[1],tuple[2]))\n"
      ]
    },
    {
      "cell_type": "code",
      "execution_count": null,
      "metadata": {
        "colab": {
          "base_uri": "https://localhost:8080/"
        },
        "id": "FDv-CxFpQng4",
        "outputId": "2911d6b7-3f4a-47cd-eb1b-75d316306233"
      },
      "outputs": [
        {
          "name": "stdout",
          "output_type": "stream",
          "text": [
            "Your name is abc Your age is 34\n"
          ]
        }
      ],
      "source": [
        "#format in tuple using {} with value\n",
        "tuple1=(2,\"abc\",34,True,43,\"male\")\n",
        "print(\"Your name is {0} Your age is {1}\".format(tuple1[1],tuple1[2]))\n"
      ]
    },
    {
      "cell_type": "code",
      "execution_count": null,
      "metadata": {
        "colab": {
          "base_uri": "https://localhost:8080/"
        },
        "id": "kWGd_im71SRR",
        "outputId": "b09865a6-de9d-48df-83e5-386f81f940a6"
      },
      "outputs": [
        {
          "name": "stdout",
          "output_type": "stream",
          "text": [
            "<class 'tuple'>\n"
          ]
        }
      ],
      "source": [
        "#tuple constructor using keyword\n",
        "tuple1=[2,\"abc\",34,True,40,\"male\"]\n",
        "tuple1=tuple(tuple1)\n",
        "print(type(tuple1))\n"
      ]
    },
    {
      "cell_type": "code",
      "execution_count": null,
      "metadata": {
        "colab": {
          "base_uri": "https://localhost:8080/"
        },
        "id": "lykxCSym2JtI",
        "outputId": "8e5f9307-8a48-4e2f-a2e0-030bf7a3b857"
      },
      "outputs": [
        {
          "name": "stdout",
          "output_type": "stream",
          "text": [
            "orange\n"
          ]
        }
      ],
      "source": [
        "#Access tuple\n",
        "mytuple=(\"apple\",\"orange\")\n",
        "print(mytuple[1])\n"
      ]
    },
    {
      "cell_type": "code",
      "execution_count": null,
      "metadata": {
        "colab": {
          "base_uri": "https://localhost:8080/"
        },
        "id": "wxECjqrX2m0A",
        "outputId": "e56ff219-2e1f-4aa2-a6cb-9dcc6aca6faa"
      },
      "outputs": [
        {
          "name": "stdout",
          "output_type": "stream",
          "text": [
            "('orange', 'banana')\n",
            "('banana', 'cherry')\n",
            "('apple',)\n",
            "('banana', 'cherry')\n"
          ]
        }
      ],
      "source": [
        "#Indexing (positive and negative)\n",
        "mytuple=(\"apple\",\"orange\",\"banana\",\"cherry\")\n",
        "print(mytuple[1:3])\n",
        "print(mytuple[2:4])\n",
        "print(mytuple[:-3])\n",
        "print(mytuple[-2:])"
      ]
    },
    {
      "cell_type": "code",
      "execution_count": null,
      "metadata": {
        "colab": {
          "base_uri": "https://localhost:8080/"
        },
        "id": "NqX2VWVB6C8M",
        "outputId": "110434b5-182e-4897-a1ce-9af01e7fc745"
      },
      "outputs": [
        {
          "name": "stdout",
          "output_type": "stream",
          "text": [
            "Yes its there\n"
          ]
        }
      ],
      "source": [
        "#check if item exists in tuple\n",
        "mytuple=(\"apple\",\"orange\",\"banana\",\"cherry\")\n",
        "if 'orange' in mytuple:\n",
        "  print('Yes its there')\n",
        "else:\n",
        "  print(\"No its not there\")\n",
        "\n",
        "\n"
      ]
    },
    {
      "cell_type": "code",
      "execution_count": null,
      "metadata": {
        "colab": {
          "base_uri": "https://localhost:8080/"
        },
        "id": "_f7upQQtB6kp",
        "outputId": "01a47524-64d8-4033-f2f5-3315c695633b"
      },
      "outputs": [
        {
          "name": "stdout",
          "output_type": "stream",
          "text": [
            "No its not there\n"
          ]
        }
      ],
      "source": [
        "#check if item not exists in tuple\n",
        "\n",
        "mytuple=(\"apple\",\"orange\",\"banana\",\"cherry\")\n",
        "if '' in mytuple:\n",
        "  print('Yes its there')\n",
        "else:\n",
        "  print(\"No its not there\")"
      ]
    },
    {
      "cell_type": "code",
      "execution_count": null,
      "metadata": {
        "colab": {
          "base_uri": "https://localhost:8080/"
        },
        "id": "mN9pQ-cx7Oj8",
        "outputId": "8295e405-2139-4ab2-93b1-07eef0d350e5"
      },
      "outputs": [
        {
          "name": "stdout",
          "output_type": "stream",
          "text": [
            "('apple', 'orange', 'grapes', 'cherry')\n"
          ]
        }
      ],
      "source": [
        "#Change tuple value using list in tuple\n",
        "mytuple=(\"apple\",\"orange\",\"banana\",\"cherry\")\n",
        "mylist=list(mytuple)\n",
        "mylist[2]=\"grapes\"\n",
        "tuple2=tuple(mylist)\n",
        "print(tuple2)\n"
      ]
    },
    {
      "cell_type": "code",
      "execution_count": null,
      "metadata": {
        "colab": {
          "base_uri": "https://localhost:8080/"
        },
        "id": "kQXdii5mCvoR",
        "outputId": "5cde400a-d508-4781-a2dc-ef89f3095b5d"
      },
      "outputs": [
        {
          "name": "stdout",
          "output_type": "stream",
          "text": [
            "('apple', 'banana', 'cherry', 'grapes', 'grapes', 'grapes', 'grapes', 'grapes')\n"
          ]
        }
      ],
      "source": [
        "#Add single item using append in tuple\n",
        "thistuple=(\"apple\",\"orange\",\"banana\",\"cherry\")\n",
        "y=list(mytuple)\n",
        "y.append(\"grapes\")\n",
        "mytuple=tuple(y)\n",
        "print(mytuple)\n"
      ]
    },
    {
      "cell_type": "code",
      "execution_count": null,
      "metadata": {
        "colab": {
          "base_uri": "https://localhost:8080/"
        },
        "id": "jBd6VhiMC7Jt",
        "outputId": "35608de3-67fa-4556-f03a-df88918ae355"
      },
      "outputs": [
        {
          "name": "stdout",
          "output_type": "stream",
          "text": [
            "('apple', 'orange', 'banana', 'cherry', 'grapes')\n"
          ]
        }
      ],
      "source": [
        "#Adding items using operators\n",
        "thistuple=(\"apple\",\"orange\",\"banana\",\"cherry\")\n",
        "y=(\"grapes\",)         #must use comma(,) when adding single in tuple\n",
        "thistuple+=y\n",
        "print(thistuple)\n",
        "\n"
      ]
    },
    {
      "cell_type": "code",
      "execution_count": null,
      "metadata": {
        "colab": {
          "base_uri": "https://localhost:8080/"
        },
        "id": "Na_-bv0TFc7R",
        "outputId": "f4fc64d3-dc31-49fb-c0b8-7b6d89ac04bc"
      },
      "outputs": [
        {
          "name": "stdout",
          "output_type": "stream",
          "text": [
            "('apple', 'banana', 'cherry')\n"
          ]
        }
      ],
      "source": [
        "#remove items in tuple\n",
        "thistuple=(\"apple\",\"orange\",\"banana\",\"cherry\")\n",
        "y=list(mytuple)\n",
        "y.remove(\"orange\")\n",
        "mytuple=tuple(y)\n",
        "print(mytuple)\n"
      ]
    },
    {
      "cell_type": "code",
      "execution_count": null,
      "metadata": {
        "colab": {
          "base_uri": "https://localhost:8080/"
        },
        "id": "X2zANI8oGwq9",
        "outputId": "d5131ba2-8f86-41a4-b3c5-8c22f68bb9f2"
      },
      "outputs": [
        {
          "name": "stdout",
          "output_type": "stream",
          "text": [
            "('apple', 'orange', 'banana', 'cherry')\n"
          ]
        }
      ],
      "source": [
        "#del item in tuple\n",
        "thistuple=(\"apple\",\"orange\",\"banana\",\"cherry\")\n",
        "print(thistuple)\n",
        "del thistuple\n",
        "#print(thistuple)\n"
      ]
    },
    {
      "cell_type": "code",
      "execution_count": null,
      "metadata": {
        "colab": {
          "base_uri": "https://localhost:8080/",
          "height": 193
        },
        "id": "snUse0eXHJ44",
        "outputId": "28a19444-c7d1-4925-a71b-44cedda27d94"
      },
      "outputs": [
        {
          "name": "stdout",
          "output_type": "stream",
          "text": [
            "('apple', 'orange', 'banana', 'cherry')\n"
          ]
        },
        {
          "ename": "NameError",
          "evalue": "name 'thistuple' is not defined",
          "output_type": "error",
          "traceback": [
            "\u001b[0;31m---------------------------------------------------------------------------\u001b[0m",
            "\u001b[0;31mNameError\u001b[0m                                 Traceback (most recent call last)",
            "\u001b[0;32m<ipython-input-26-9dea59a51324>\u001b[0m in \u001b[0;36m<cell line: 5>\u001b[0;34m()\u001b[0m\n\u001b[1;32m      3\u001b[0m \u001b[0mprint\u001b[0m\u001b[0;34m(\u001b[0m\u001b[0mthistuple\u001b[0m\u001b[0;34m)\u001b[0m\u001b[0;34m\u001b[0m\u001b[0;34m\u001b[0m\u001b[0m\n\u001b[1;32m      4\u001b[0m \u001b[0;32mdel\u001b[0m \u001b[0mthistuple\u001b[0m\u001b[0;34m\u001b[0m\u001b[0;34m\u001b[0m\u001b[0m\n\u001b[0;32m----> 5\u001b[0;31m \u001b[0mprint\u001b[0m\u001b[0;34m(\u001b[0m\u001b[0mthistuple\u001b[0m\u001b[0;34m)\u001b[0m\u001b[0;34m\u001b[0m\u001b[0;34m\u001b[0m\u001b[0m\n\u001b[0m",
            "\u001b[0;31mNameError\u001b[0m: name 'thistuple' is not defined"
          ]
        }
      ],
      "source": [
        "#del item in tuple\n",
        "thistuple=(\"apple\",\"orange\",\"banana\",\"cherry\")\n",
        "print(thistuple)\n",
        "del thistuple\n",
        "print(thistuple)\n"
      ]
    },
    {
      "cell_type": "code",
      "execution_count": null,
      "metadata": {
        "colab": {
          "base_uri": "https://localhost:8080/"
        },
        "id": "l_yr0aUmHO7e",
        "outputId": "a419d2d5-1d64-44d5-fab8-71823c241177"
      },
      "outputs": [
        {
          "name": "stdout",
          "output_type": "stream",
          "text": [
            "apple\n",
            "orange\n",
            "banana\n"
          ]
        }
      ],
      "source": [
        "#unpacking tuple without using loop\n",
        "fruits=(\"apple\",\"orange\",\"banana\") #must be equal items here\n",
        "(red,orange,yellow)=fruits         #must be equal items here\n",
        "print(red)\n",
        "print(orange)\n",
        "print(yellow)\n"
      ]
    },
    {
      "cell_type": "code",
      "execution_count": null,
      "metadata": {
        "colab": {
          "base_uri": "https://localhost:8080/"
        },
        "id": "kCTSACeOJX_M",
        "outputId": "6228ab5a-51aa-4dbd-b4a1-ed1b22f0c68c"
      },
      "outputs": [
        {
          "name": "stdout",
          "output_type": "stream",
          "text": [
            "apple\n",
            "orange\n",
            "['banana']\n"
          ]
        }
      ],
      "source": [
        "#Using Asterisk in tuple\n",
        "fruits=(\"apple\",\"orange\",\"banana\") #must be equal items here\n",
        "(red,orange,*yellow)=fruits         #must be equal items here\n",
        "print(red)\n",
        "print(orange)\n",
        "print(yellow)\n"
      ]
    },
    {
      "cell_type": "code",
      "execution_count": null,
      "metadata": {
        "colab": {
          "base_uri": "https://localhost:8080/"
        },
        "id": "GjsYGUERKBbk",
        "outputId": "633733eb-8333-4226-8850-7090ba62fb7a"
      },
      "outputs": [
        {
          "name": "stdout",
          "output_type": "stream",
          "text": [
            "cherry\n",
            "['orange', 'banana', 'grapes']\n",
            "cherry\n"
          ]
        }
      ],
      "source": [
        "#Using Asterisk in tuple\n",
        "fruits=(\"apple\",\"orange\",\"banana\",\"grapes\",\"cherry\") #we can use more items here\n",
        "(red,*tropic,red)=fruits\n",
        "print(red)\n",
        "print(tropic)\n",
        "print(yellow)\n"
      ]
    },
    {
      "cell_type": "code",
      "execution_count": null,
      "metadata": {
        "colab": {
          "base_uri": "https://localhost:8080/"
        },
        "id": "cysPknGzK_Zb",
        "outputId": "4c48bbc5-ceae-455d-d95c-56798df9df86"
      },
      "outputs": [
        {
          "name": "stdout",
          "output_type": "stream",
          "text": [
            "apple\n",
            "orange\n",
            "banana\n"
          ]
        }
      ],
      "source": [
        "#using for loop in tuple\n",
        "fruits=(\"apple\",\"orange\",\"banana\")\n",
        "for x in fruits:\n",
        "  print(x)"
      ]
    },
    {
      "cell_type": "code",
      "execution_count": null,
      "metadata": {
        "colab": {
          "base_uri": "https://localhost:8080/"
        },
        "id": "rgqQTHJfLzXV",
        "outputId": "99ce3a5d-f20f-49a5-c611-e915b0698b92"
      },
      "outputs": [
        {
          "name": "stdout",
          "output_type": "stream",
          "text": [
            "apple\n",
            "orange\n",
            "banana\n",
            "3\n"
          ]
        }
      ],
      "source": [
        "#using for loop in tuple with index numbers\n",
        "fruits=(\"apple\",\"orange\",\"banana\")\n",
        "for x in range(len(fruits)):\n",
        "  print(fruits[x])\n",
        "print(len(fruits))\n"
      ]
    },
    {
      "cell_type": "code",
      "execution_count": null,
      "metadata": {
        "colab": {
          "base_uri": "https://localhost:8080/"
        },
        "id": "2g5CCmhjMqu7",
        "outputId": "75a49557-0d1f-4298-d683-deb61acbde85"
      },
      "outputs": [
        {
          "name": "stdout",
          "output_type": "stream",
          "text": [
            "apple\n",
            "orange\n",
            "banana\n"
          ]
        }
      ],
      "source": [
        "#using while loop in tuple\n",
        "fruits=(\"apple\",\"orange\",\"banana\")\n",
        "x=0\n",
        "while x<len(fruits):\n",
        "  print(fruits[x])\n",
        "  x=x+1"
      ]
    },
    {
      "cell_type": "code",
      "execution_count": null,
      "metadata": {
        "colab": {
          "background_save": true
        },
        "id": "Kpibq2cYNMmU",
        "outputId": "a96ce2e2-0704-462d-e7d1-7f16c7cf04cd"
      },
      "outputs": [
        {
          "name": "stdout",
          "output_type": "stream",
          "text": [
            "('apple', 'orange', 'banana', 1, 2, 3)\n"
          ]
        }
      ],
      "source": [
        "#Joining two tuples\n",
        "tuple1=(\"apple\",\"orange\",\"banana\")\n",
        "tuple2=(1,2,3)\n",
        "tuple3=tuple1+tuple2\n",
        "print(tuple3)\n"
      ]
    },
    {
      "cell_type": "code",
      "source": [
        "#_______________________________________________________________________________________________________________________________________"
      ],
      "metadata": {
        "id": "KL4S-ug0WC3S"
      },
      "execution_count": null,
      "outputs": []
    },
    {
      "cell_type": "code",
      "source": [
        "#DICTIONARY IN PYTHON"
      ],
      "metadata": {
        "id": "RdjeVyYFC1fu"
      },
      "execution_count": null,
      "outputs": []
    },
    {
      "cell_type": "code",
      "execution_count": null,
      "metadata": {
        "colab": {
          "base_uri": "https://localhost:8080/"
        },
        "id": "Rf8D3dilNy6u",
        "outputId": "e1e8a8a2-1d19-4903-f5be-909b31718f40"
      },
      "outputs": [
        {
          "output_type": "stream",
          "name": "stdout",
          "text": [
            "{'brand': 'Ford', 'model': 'mustang', 'year': 1964}\n"
          ]
        }
      ],
      "source": [
        "#Dictionary\n",
        "thisdict={\"brand\":\"Ford\", \"model\":\"mustang\",\"year\":1964 }\n",
        "print(thisdict)\n",
        "\n"
      ]
    },
    {
      "cell_type": "code",
      "source": [
        "#Dictionary (will not allow duplicate value)\n",
        "thisdict={\"brand\":\"Ford\", \"model\":\"mustang\",\"year\":1964,\"brand\":\"Ford\"}\n",
        "print(thisdict)\n"
      ],
      "metadata": {
        "colab": {
          "base_uri": "https://localhost:8080/"
        },
        "id": "5JtW_6EEO7JU",
        "outputId": "425d1110-9353-4444-f1ec-1017731d7be0"
      },
      "execution_count": null,
      "outputs": [
        {
          "output_type": "stream",
          "name": "stdout",
          "text": [
            "{'brand': 'Ford', 'model': 'mustang', 'year': 1964}\n"
          ]
        }
      ]
    },
    {
      "cell_type": "code",
      "source": [
        "#Dictionary\n",
        "thisdict={\"brand\":\"Ford\", \"model\":\"mustang\",\"year\":1964}\n",
        "print(thisdict)\n",
        "print(thisdict.keys())\n",
        "print(thisdict.values())\n",
        "\n"
      ],
      "metadata": {
        "colab": {
          "base_uri": "https://localhost:8080/"
        },
        "id": "b86AScQaPSUE",
        "outputId": "6777136a-2bc1-4e58-de11-99782104e7ee"
      },
      "execution_count": null,
      "outputs": [
        {
          "output_type": "stream",
          "name": "stdout",
          "text": [
            "{'brand': 'Ford', 'model': 'mustang', 'year': 1964}\n",
            "dict_keys(['brand', 'model', 'year'])\n",
            "dict_values(['Ford', 'mustang', 1964])\n"
          ]
        }
      ]
    },
    {
      "cell_type": "code",
      "source": [
        "#Dictionary\n",
        "thisdict={\"brand\":\"Ford\", \"model\":\"mustang\",\"year\":1964}\n",
        "print(thisdict)\n",
        "x=thisdict.keys()\n",
        "y=thisdict.values()\n",
        "print(x)\n",
        "print(y)\n"
      ],
      "metadata": {
        "colab": {
          "base_uri": "https://localhost:8080/"
        },
        "id": "qpIpCrUOXxYi",
        "outputId": "268624bc-9d87-4bce-f6e4-c589497c1c5a"
      },
      "execution_count": null,
      "outputs": [
        {
          "output_type": "stream",
          "name": "stdout",
          "text": [
            "{'brand': 'Ford', 'model': 'mustang', 'year': 1964}\n",
            "dict_keys(['brand', 'model', 'year'])\n",
            "dict_values(['Ford', 'mustang', 1964])\n"
          ]
        }
      ]
    },
    {
      "cell_type": "code",
      "source": [
        "# length in dictionary\n",
        "#Dictionary\n",
        "thisdict={\"brand\":\"Ford\", \"model\":\"mustang\",\"year\":1964}\n",
        "print(len(thisdict))\n",
        "print(type(thisdict))\n"
      ],
      "metadata": {
        "colab": {
          "base_uri": "https://localhost:8080/"
        },
        "id": "TBivvlH2Xx1-",
        "outputId": "323c85c0-2b68-4e40-d21c-3c586bca0ea1"
      },
      "execution_count": null,
      "outputs": [
        {
          "output_type": "stream",
          "name": "stdout",
          "text": [
            "3\n",
            "<class 'dict'>\n"
          ]
        }
      ]
    },
    {
      "cell_type": "code",
      "source": [
        "#accessing item\n",
        "#Dictionary\n",
        "thisdict={\"brand\":\"Ford\", \"model\":\"mustang\",\"year\":1964}\n",
        "print(thisdict[\"model\"])\n",
        "print(thisdict[\"year\"])\n"
      ],
      "metadata": {
        "colab": {
          "base_uri": "https://localhost:8080/"
        },
        "id": "4ueY1ifgYnsi",
        "outputId": "e01a8087-f96e-44ac-be8a-b186e3613d8f"
      },
      "execution_count": null,
      "outputs": [
        {
          "output_type": "stream",
          "name": "stdout",
          "text": [
            "mustang\n",
            "1964\n"
          ]
        }
      ]
    },
    {
      "cell_type": "code",
      "source": [
        "#dictionary constructor (use= instead of :)\n",
        "thisdict=dict(brand=\"Ford\", model=\"mustang\",year=1964)\n",
        "print(thisdict)\n"
      ],
      "metadata": {
        "colab": {
          "base_uri": "https://localhost:8080/"
        },
        "id": "6BZC3n0ZY7m7",
        "outputId": "627666ea-9aac-4db5-c2b9-19490c2b477b"
      },
      "execution_count": null,
      "outputs": [
        {
          "output_type": "stream",
          "name": "stdout",
          "text": [
            "{'brand': 'Ford', 'model': 'mustang', 'year': 1964}\n"
          ]
        }
      ]
    },
    {
      "cell_type": "code",
      "source": [
        "#Accessing item using get function\n",
        "thisdict=dict(brand=\"Ford\", model=\"mustang\",year=1964)\n",
        "print(thisdict.get(\"model\"))\n"
      ],
      "metadata": {
        "colab": {
          "base_uri": "https://localhost:8080/"
        },
        "id": "WDNJDbglZkIT",
        "outputId": "6e440333-2505-4b57-cbc5-41832298d8ef"
      },
      "execution_count": null,
      "outputs": [
        {
          "output_type": "stream",
          "name": "stdout",
          "text": [
            "mustang\n"
          ]
        }
      ]
    },
    {
      "cell_type": "code",
      "source": [
        "#Adding item\n",
        "car={\"brand\":\"Ford\", \"model\":\"mustang\",\"year\":1964}\n",
        "car[\"color\"]=\"white\"\n",
        "print(car)\n"
      ],
      "metadata": {
        "colab": {
          "base_uri": "https://localhost:8080/"
        },
        "id": "fNbMBV9AZzuZ",
        "outputId": "a42f324d-6258-4697-a456-0558fd1765a4"
      },
      "execution_count": null,
      "outputs": [
        {
          "output_type": "stream",
          "name": "stdout",
          "text": [
            "{'brand': 'Ford', 'model': 'mustang', 'year': 1964, 'color': 'white'}\n"
          ]
        }
      ]
    },
    {
      "cell_type": "code",
      "source": [
        "#changing item\n",
        "car={\"brand\":\"Ford\", \"model\":\"mustang\",\"year\":1964}\n",
        "car[\"brand\"]=\"audi\"\n",
        "print(car)\n",
        "\n",
        "{'brand':[\"audi\"]}\n",
        "print(car)\n",
        "\n"
      ],
      "metadata": {
        "colab": {
          "base_uri": "https://localhost:8080/"
        },
        "id": "viUXhrjGaX0v",
        "outputId": "1ba60da3-6bdb-44d5-8ae4-f52b58155b24"
      },
      "execution_count": null,
      "outputs": [
        {
          "output_type": "stream",
          "name": "stdout",
          "text": [
            "{'brand': 'audi', 'model': 'mustang', 'year': 1964}\n",
            "{'brand': 'audi', 'model': 'mustang', 'year': 1964}\n"
          ]
        }
      ]
    },
    {
      "cell_type": "code",
      "source": [
        "#changing item\n",
        "car={\"brand\":\"Ford\", \"model\":\"mustang\",\"year\":1964}\n",
        "{'brand':[\"audi\"]} # Will not change\n",
        "print(car)\n"
      ],
      "metadata": {
        "colab": {
          "base_uri": "https://localhost:8080/"
        },
        "id": "N8ykcXBSaqvp",
        "outputId": "15148bb5-77f7-44e0-b6a0-5adecc3d7740"
      },
      "execution_count": null,
      "outputs": [
        {
          "output_type": "stream",
          "name": "stdout",
          "text": [
            "{'brand': 'Ford', 'model': 'mustang', 'year': 1964}\n"
          ]
        }
      ]
    },
    {
      "cell_type": "code",
      "source": [
        "#if statement in dictionary\n",
        "thisdict={'brand':'Ford','model':\"mustang\",'year':1964}\n",
        "if 'model' in thisdict:\n",
        "  print(\"Yes\",'Model is one of the keys in the thisdict')\n",
        "else:\n",
        "   print('No','Model is not in the thisdict')\n"
      ],
      "metadata": {
        "colab": {
          "base_uri": "https://localhost:8080/"
        },
        "id": "YJerYYApbWS5",
        "outputId": "7622f287-3298-4545-e575-bdce43bf4c24"
      },
      "execution_count": null,
      "outputs": [
        {
          "output_type": "stream",
          "name": "stdout",
          "text": [
            "Yes Model is one of the keys in the thisdict\n"
          ]
        }
      ]
    },
    {
      "cell_type": "code",
      "source": [
        "#update in dictionary\n",
        "thisdict={'brand':'Ford','model':\"mustang\",'year':1964}\n",
        "thisdict.update({'day':2020})\n",
        "print(thisdict)\n"
      ],
      "metadata": {
        "colab": {
          "base_uri": "https://localhost:8080/"
        },
        "id": "eBnaxn7_f1um",
        "outputId": "df9f37a6-8ca0-4ce9-ea5b-8c3e2795f90f"
      },
      "execution_count": null,
      "outputs": [
        {
          "output_type": "stream",
          "name": "stdout",
          "text": [
            "{'brand': 'Ford', 'model': 'mustang', 'year': 1964, 'day': 2020}\n"
          ]
        }
      ]
    },
    {
      "cell_type": "code",
      "source": [
        "#pop(using key)\n",
        "thisdict={'brand':'Ford','model':\"mustang\",'year':1964}\n",
        "thisdict.pop(\"model\")   #need atleast one key\n",
        "print(thisdict)"
      ],
      "metadata": {
        "colab": {
          "base_uri": "https://localhost:8080/"
        },
        "id": "NkmMst4XgtCQ",
        "outputId": "eace3b1e-c98c-4c63-c4f3-d445db4b897f"
      },
      "execution_count": null,
      "outputs": [
        {
          "output_type": "stream",
          "name": "stdout",
          "text": [
            "{'brand': 'Ford', 'year': 1964}\n"
          ]
        }
      ]
    },
    {
      "cell_type": "code",
      "source": [
        "#for loop in dict and giving output key\n",
        "thisdict={'brand':'Ford','model':\"mustang\",'year':1964}\n",
        "for i in thisdict:\n",
        "  print(i)              #key()"
      ],
      "metadata": {
        "colab": {
          "base_uri": "https://localhost:8080/"
        },
        "id": "-SMpqXhmha4h",
        "outputId": "8515c913-26c8-4895-af3f-533ee792d187"
      },
      "execution_count": null,
      "outputs": [
        {
          "output_type": "stream",
          "name": "stdout",
          "text": [
            "brand\n",
            "model\n",
            "year\n"
          ]
        }
      ]
    },
    {
      "cell_type": "code",
      "source": [
        "#for loop in dict and giving output value\n",
        "thisdict={'brand':'Ford','model':\"mustang\",'year':1964}\n",
        "for i in thisdict:\n",
        "  print(thisdict[i])              #value()"
      ],
      "metadata": {
        "colab": {
          "base_uri": "https://localhost:8080/"
        },
        "id": "4sgLc2c-h83F",
        "outputId": "c5dda28d-2d49-49d9-e264-901a8c2a9f72"
      },
      "execution_count": null,
      "outputs": [
        {
          "output_type": "stream",
          "name": "stdout",
          "text": [
            "Ford\n",
            "mustang\n",
            "1964\n"
          ]
        }
      ]
    },
    {
      "cell_type": "code",
      "source": [
        "#for loop in dict value\n",
        "thisdict={'brand':'Ford','model':\"mustang\",'year':1964}\n",
        "for i in thisdict.values():\n",
        "  print(i)              #value()"
      ],
      "metadata": {
        "colab": {
          "base_uri": "https://localhost:8080/"
        },
        "id": "qi_m_OJIiM2h",
        "outputId": "7880a97d-c70e-4e97-edad-78285f158d06"
      },
      "execution_count": null,
      "outputs": [
        {
          "output_type": "stream",
          "name": "stdout",
          "text": [
            "Ford\n",
            "mustang\n",
            "1964\n"
          ]
        }
      ]
    },
    {
      "cell_type": "code",
      "source": [
        "#for loop in dict value\n",
        "thisdict={'brand':'Ford','model':\"mustang\",'year':1964}\n",
        "for i in thisdict.keys():\n",
        "  print(i)              #keys()"
      ],
      "metadata": {
        "colab": {
          "base_uri": "https://localhost:8080/"
        },
        "id": "G5cWBengiwHd",
        "outputId": "0f104065-9020-4ec7-c574-475784fa2252"
      },
      "execution_count": null,
      "outputs": [
        {
          "output_type": "stream",
          "name": "stdout",
          "text": [
            "brand\n",
            "model\n",
            "year\n"
          ]
        }
      ]
    },
    {
      "cell_type": "code",
      "source": [
        "#for loop in dict using items()\n",
        "thisdict={'brand':'Ford','model':\"mustang\",'year':1964}\n",
        "for i,j in thisdict.items():\n",
        "  print(i,j)"
      ],
      "metadata": {
        "id": "vh9yWs4ijQaA",
        "colab": {
          "base_uri": "https://localhost:8080/"
        },
        "outputId": "cb87035a-64f3-4234-ee3c-72df66b81f79"
      },
      "execution_count": null,
      "outputs": [
        {
          "output_type": "stream",
          "name": "stdout",
          "text": [
            "brand Ford\n",
            "model mustang\n",
            "year 1964\n"
          ]
        }
      ]
    },
    {
      "cell_type": "code",
      "source": [
        "#copy in dictionary method1\n",
        "thisdict={'brand':'Ford','model':\"mustang\",'year':1964}\n",
        "mydict=thisdict.copy()\n",
        "print(mydict)"
      ],
      "metadata": {
        "colab": {
          "base_uri": "https://localhost:8080/"
        },
        "id": "uZaQSpEUseoK",
        "outputId": "0371dc46-3f68-4034-e5ce-e1a3ce80d3d4"
      },
      "execution_count": null,
      "outputs": [
        {
          "output_type": "stream",
          "name": "stdout",
          "text": [
            "{'brand': 'Ford', 'model': 'mustang', 'year': 1964}\n"
          ]
        }
      ]
    },
    {
      "cell_type": "code",
      "source": [
        "#copy in dictionary method2\n",
        "thisdict={'brand':'Ford','model':\"mustang\",'year':1964}\n",
        "mydict=thisdict\n",
        "print(mydict)"
      ],
      "metadata": {
        "colab": {
          "base_uri": "https://localhost:8080/"
        },
        "id": "0ScBFr0Ys4dW",
        "outputId": "dcdbd86f-9db2-4a22-a5a8-d749dc43681a"
      },
      "execution_count": null,
      "outputs": [
        {
          "output_type": "stream",
          "name": "stdout",
          "text": [
            "{'brand': 'Ford', 'model': 'mustang', 'year': 1964}\n"
          ]
        }
      ]
    },
    {
      "cell_type": "code",
      "source": [
        "#copy in dictionary method3\n",
        "thisdict={'brand':'Ford','model':\"mustang\",'year':1964}\n",
        "mydict=dict(thisdict)\n",
        "print(mydict)"
      ],
      "metadata": {
        "colab": {
          "base_uri": "https://localhost:8080/"
        },
        "id": "eC6-iFYsteta",
        "outputId": "a064d6aa-4012-4fd9-b62f-6b693be4fb8a"
      },
      "execution_count": null,
      "outputs": [
        {
          "output_type": "stream",
          "name": "stdout",
          "text": [
            "{'brand': 'Ford', 'model': 'mustang', 'year': 1964}\n"
          ]
        }
      ]
    },
    {
      "cell_type": "code",
      "source": [
        "#Nested dictionary method1\n",
        "myfamily={'child1':{'name':'abc','year':2004},\n",
        "          'child2':{'name':'xyz','year':2007},\n",
        "          'child3':{'name':'stu','year':2011}\n",
        "          }\n",
        "print(myfamily)\n"
      ],
      "metadata": {
        "colab": {
          "base_uri": "https://localhost:8080/"
        },
        "id": "2jmsaLO3tv6o",
        "outputId": "3a116164-8257-4746-c278-bbbad3b617b2"
      },
      "execution_count": null,
      "outputs": [
        {
          "output_type": "stream",
          "name": "stdout",
          "text": [
            "{'child1': {'name': 'abc', 'year': 2004}, 'child2': {'name': 'xyz', 'year': 2007}, 'child3': {'name': 'stu', 'year': 2011}}\n"
          ]
        }
      ]
    },
    {
      "cell_type": "code",
      "source": [
        "#Nested dictionary method2\n",
        "child1={'name':'abc','year':2004},\n",
        "child2={'name':'xyz','year':2007},\n",
        "child3={'name':'stu','year':2011}\n",
        "myfamily={\"child1\":child1,\"child2\":child2,\"child3\":child3}\n",
        "print(myfamily)\n"
      ],
      "metadata": {
        "colab": {
          "base_uri": "https://localhost:8080/"
        },
        "id": "OpHWtFY0vrHA",
        "outputId": "29339261-1d0d-49bf-8eb3-7ee15866b111"
      },
      "execution_count": null,
      "outputs": [
        {
          "output_type": "stream",
          "name": "stdout",
          "text": [
            "{'child1': ({'name': 'abc', 'year': 2004},), 'child2': ({'name': 'xyz', 'year': 2007},), 'child3': {'name': 'stu', 'year': 2011}}\n"
          ]
        }
      ]
    },
    {
      "cell_type": "code",
      "source": [
        "#Nested dictionary method3\n",
        "myfamily={'child1':{'name':'abc','year':2004},\n",
        "          'child2':{'name':'xyz','year':2007},\n",
        "          'child3':{'name':'stu','year':2011}\n",
        "          }\n",
        "print(myfamily[\"child1\"][\"name\"])\n",
        "print(myfamily[\"child1\"][\"year\"])"
      ],
      "metadata": {
        "colab": {
          "base_uri": "https://localhost:8080/"
        },
        "id": "Vadjzwi_wdOW",
        "outputId": "e193a3f6-cc33-4fbd-d810-51833b14533a"
      },
      "execution_count": null,
      "outputs": [
        {
          "output_type": "stream",
          "name": "stdout",
          "text": [
            "abc\n",
            "2004\n"
          ]
        }
      ]
    },
    {
      "cell_type": "code",
      "source": [
        "#loop nested and for loop in dictionary\n",
        "myfamily={'child1':{'name':'abc','year':2004},\n",
        "          'child2':{'name':'xyz','year':2007},\n",
        "          'child3':{'name':'stu','year':2011}\n",
        "          }\n",
        "for x,obj in myfamily.items():\n",
        "  print(x)\n",
        "  for y in obj:\n",
        "    print(y+':',obj[y])\n"
      ],
      "metadata": {
        "colab": {
          "base_uri": "https://localhost:8080/"
        },
        "id": "q2vj2mTbxV40",
        "outputId": "03a1f5be-80dc-4851-ed9c-6ad4db3b93be"
      },
      "execution_count": null,
      "outputs": [
        {
          "output_type": "stream",
          "name": "stdout",
          "text": [
            "child1\n",
            "name: abc\n",
            "year: 2004\n",
            "child2\n",
            "name: xyz\n",
            "year: 2007\n",
            "child3\n",
            "name: stu\n",
            "year: 2011\n"
          ]
        }
      ]
    },
    {
      "cell_type": "code",
      "source": [
        "#fromkeys in dictionary\n",
        "x = ('a','b','c')\n",
        "y=\"Alphabets\"\n",
        "#for i in range(y,y+1,10):\n",
        "thisdict = dict.fromkeys(x, y)\n",
        "print(thisdict)\n",
        "  #y=y+1\n"
      ],
      "metadata": {
        "colab": {
          "base_uri": "https://localhost:8080/"
        },
        "id": "me-jfQFTyHGM",
        "outputId": "396cdc43-c13e-4ead-8c8e-0aa20347ac73"
      },
      "execution_count": null,
      "outputs": [
        {
          "output_type": "stream",
          "name": "stdout",
          "text": [
            "{'a': 'Alphabets', 'b': 'Alphabets', 'c': 'Alphabets'}\n"
          ]
        }
      ]
    },
    {
      "cell_type": "code",
      "source": [
        "#set default in dictionary\n",
        "car = {\n",
        "  \"brand\": \"Ford\",\n",
        "  \"model\": \"Mustang\",\n",
        "  \"year\": 1964\n",
        "}\n",
        "\n",
        "x = car.setdefault(\"model\") #to get the value of the given key\n",
        "y = car.setdefault(\"brand\",\"\")\n",
        "z=car.setdefault(\"servicecenter\",\"Trichy\")\n",
        "print(x)\n",
        "print(y)\n",
        "print(z)"
      ],
      "metadata": {
        "colab": {
          "base_uri": "https://localhost:8080/"
        },
        "id": "RSSxxdWjyMV0",
        "outputId": "4f7d853a-c864-4bdb-ebe2-9506170ffce7"
      },
      "execution_count": null,
      "outputs": [
        {
          "output_type": "stream",
          "name": "stdout",
          "text": [
            "Mustang\n",
            "Ford\n",
            "Trichy\n"
          ]
        }
      ]
    },
    {
      "cell_type": "code",
      "source": [
        "#_________________________________________________________________________________________________________________________________________"
      ],
      "metadata": {
        "id": "2PtgdNBqWITq"
      },
      "execution_count": null,
      "outputs": []
    }
  ]
}